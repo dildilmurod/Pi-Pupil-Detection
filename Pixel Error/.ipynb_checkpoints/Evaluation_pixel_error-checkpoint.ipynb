{
 "cells": [
  {
   "cell_type": "code",
   "execution_count": 1,
   "metadata": {},
   "outputs": [],
   "source": [
    "import numpy as np\n",
    "import pandas as pd\n",
    "import glob"
   ]
  },
  {
   "cell_type": "code",
   "execution_count": null,
   "metadata": {},
   "outputs": [],
   "source": []
  },
  {
   "cell_type": "code",
   "execution_count": 2,
   "metadata": {},
   "outputs": [
    {
     "name": "stdout",
     "output_type": "stream",
     "text": [
      "/home/demo/Desktop/Pi-Pupil-Detection/Pixel Error\n"
     ]
    }
   ],
   "source": [
    "import os\n",
    "print(os.getcwd())"
   ]
  },
  {
   "cell_type": "code",
   "execution_count": null,
   "metadata": {},
   "outputs": [],
   "source": []
  },
  {
   "cell_type": "code",
   "execution_count": 3,
   "metadata": {},
   "outputs": [
    {
     "name": "stdout",
     "output_type": "stream",
     "text": [
      "Participant number:  8   -    part:  7\n"
     ]
    }
   ],
   "source": [
    "cols = ['x', 'y']\n",
    "# For one participant multiple data recording parts were used in LPW \n",
    "#1 - [1,4,9]   2 - [4,10,13]   3 - [16,19,21]  4 - [1,2,12]  5 - [6,10,11]\n",
    "#6 - [2,5,13]  7 - [15,18,21]  8 - [2,7,9]  9 - [16,17,18]  10 - [1,8,11]\n",
    "\n",
    "PATICIPANT_PART = 9\n",
    "PATICIPANT_NUM = 8\n",
    "\n",
    "canny_blur = [[25, 9], [18, 21], [21, 13]]\n",
    "\n",
    "path = rf\"dataset/LPW_example/LPW_subject{PATICIPANT_NUM}\"\n",
    "\n",
    "print(\"Participant number: \", PATICIPANT_NUM, \"  -  \", \" part: \", PATICIPANT_PART)"
   ]
  },
  {
   "cell_type": "code",
   "execution_count": 4,
   "metadata": {},
   "outputs": [],
   "source": [
    "# detection_rate_result = pd.DataFrame(columns = ['PATICIPANT_NUM', 'PATICIPANT_PART', 'CANNY_VALUE', 'BLUR_VALUE', 'DETECTION_RATE_5PIX', 'DETECTION_RATE_10PIX', 'FRAME_SIZE'])\n",
    "detection_rate_result = pd.read_csv(path + rf'/detect_participant{PATICIPANT_NUM}.csv', delimiter=',')"
   ]
  },
  {
   "cell_type": "code",
   "execution_count": 5,
   "metadata": {},
   "outputs": [
    {
     "name": "stdout",
     "output_type": "stream",
     "text": [
      "CANNY:  25   -    BLUR:  9\n",
      "1\n",
      "190\n",
      "90.45\n",
      "   PATICIPANT_NUM  PATICIPANT_PART  CANNY_VALUE  BLUR_VALUE  \\\n",
      "0               8                2           25           9   \n",
      "1               8                2           18          21   \n",
      "2               8                2           21          13   \n",
      "3               8                7           25           9   \n",
      "\n",
      "   DETECTION_RATE_5PIX  DETECTION_RATE_10PIX FRAME_SIZE  \n",
      "0                73.75                 80.45    480x480  \n",
      "1                88.65                 93.35    480x480  \n",
      "2                85.25                 90.70    480x480  \n",
      "3                81.55                 84.60    480x480  \n",
      "\n",
      "CANNY:  18   -    BLUR:  21\n"
     ]
    },
    {
     "name": "stderr",
     "output_type": "stream",
     "text": [
      "/tmp/ipykernel_4718/4273433038.py:5: FutureWarning: The 'delim_whitespace' keyword in pd.read_csv is deprecated and will be removed in a future version. Use ``sep='\\s+'`` instead\n",
      "  detection_actual = pd.read_csv(path + rf'/{PATICIPANT_PART}.txt', delim_whitespace= True, header=None)\n",
      "/tmp/ipykernel_4718/4273433038.py:5: FutureWarning: The 'delim_whitespace' keyword in pd.read_csv is deprecated and will be removed in a future version. Use ``sep='\\s+'`` instead\n",
      "  detection_actual = pd.read_csv(path + rf'/{PATICIPANT_PART}.txt', delim_whitespace= True, header=None)\n"
     ]
    },
    {
     "name": "stdout",
     "output_type": "stream",
     "text": [
      "1\n",
      "122\n",
      "93.85\n",
      "   PATICIPANT_NUM  PATICIPANT_PART  CANNY_VALUE  BLUR_VALUE  \\\n",
      "0               8                2           25           9   \n",
      "1               8                2           18          21   \n",
      "2               8                2           21          13   \n",
      "3               8                7           25           9   \n",
      "4               8                7           18          21   \n",
      "\n",
      "   DETECTION_RATE_5PIX  DETECTION_RATE_10PIX FRAME_SIZE  \n",
      "0                73.75                 80.45    480x480  \n",
      "1                88.65                 93.35    480x480  \n",
      "2                85.25                 90.70    480x480  \n",
      "3                81.55                 84.60    480x480  \n",
      "4                88.15                 91.10    480x480  \n",
      "\n",
      "CANNY:  21   -    BLUR:  13\n",
      "1\n",
      "150\n",
      "92.45\n",
      "   PATICIPANT_NUM  PATICIPANT_PART  CANNY_VALUE  BLUR_VALUE  \\\n",
      "0               8                2           25           9   \n",
      "1               8                2           18          21   \n",
      "2               8                2           21          13   \n",
      "3               8                7           25           9   \n",
      "4               8                7           18          21   \n",
      "5               8                7           21          13   \n",
      "\n",
      "   DETECTION_RATE_5PIX  DETECTION_RATE_10PIX FRAME_SIZE  \n",
      "0                73.75                 80.45    480x480  \n",
      "1                88.65                 93.35    480x480  \n",
      "2                85.25                 90.70    480x480  \n",
      "3                81.55                 84.60    480x480  \n",
      "4                88.15                 91.10    480x480  \n",
      "5                87.50                 90.15    480x480  \n",
      "\n"
     ]
    },
    {
     "name": "stderr",
     "output_type": "stream",
     "text": [
      "/tmp/ipykernel_4718/4273433038.py:5: FutureWarning: The 'delim_whitespace' keyword in pd.read_csv is deprecated and will be removed in a future version. Use ``sep='\\s+'`` instead\n",
      "  detection_actual = pd.read_csv(path + rf'/{PATICIPANT_PART}.txt', delim_whitespace= True, header=None)\n"
     ]
    }
   ],
   "source": [
    "for CANNY, BLUR in canny_blur:\n",
    "    print(\"CANNY: \", CANNY, \"  -  \", \" BLUR: \", BLUR)\n",
    "    detection_observed = pd.read_csv(path + rf'/Experiment_{PATICIPANT_PART}_canny_{CANNY}_blur_{BLUR}.csv', delimiter='\\t')\n",
    "    \n",
    "    detection_actual = pd.read_csv(path + rf'/{PATICIPANT_PART}.txt', delim_whitespace= True, header=None)\n",
    "    detection_actual.columns = cols\n",
    "    detection_actual[cols] = detection_actual[cols].astype('float')\n",
    "    detection_observed[cols] = detection_observed[cols].astype('float')\n",
    "    \n",
    "    observed_num = len(detection_observed)\n",
    "    misidentified = len(detection_observed[(detection_observed.extra != '[]') & (detection_observed.x != 0)])\n",
    "    print(misidentified)\n",
    "    \n",
    "    notidentified = len(detection_observed[(detection_observed.x == 0)])\n",
    "    print(notidentified)\n",
    "    \n",
    "    identified = ((observed_num - misidentified - notidentified) * 100) / observed_num\n",
    "    print(identified)\n",
    "    \n",
    "    detection_observed[cols] - detection_actual[cols] \n",
    "    \n",
    "    # Error calculation (MSE)\n",
    "    \n",
    "    evaluation = []\n",
    "    \n",
    "    for data_o, data_a in zip(detection_observed.values, detection_actual.values):\n",
    "        #print(np.linalg.norm([data_o[0] , data_a[0]], 1))\n",
    "        ecu_dist = np.sqrt(np.square(data_o[0] - data_a[0]) + np.square(data_o[1] - data_a[1]))\n",
    "        evaluation.append(ecu_dist)\n",
    "        #np.linalg.norm([data_o[0], data_o[1]], [data_a[0], data_a[1]], axis=1)\n",
    "    \n",
    "    filter_evaluation =  list(filter(lambda value: value < 100, evaluation))\n",
    "    \n",
    "    error_evaluation_5pix =  list(filter(lambda value: value < 5, evaluation))\n",
    "    tolerated_detection_5pix = (len(error_evaluation_5pix) * 100) / observed_num\n",
    "    \n",
    "    error_evaluation_10pix =  list(filter(lambda value: value < 10, evaluation))\n",
    "    tolerated_detection_10pix = (len(error_evaluation_10pix) * 100) / observed_num\n",
    "    \n",
    "    \n",
    "    df_experiment = pd.DataFrame(filter_evaluation, columns=[\"Error_Euclidean\"])\n",
    "    \n",
    "    df_experiment.to_csv(path + f\"/participant{PATICIPANT_NUM}_part_{PATICIPANT_PART}_error__canny_{CANNY}_blur_{BLUR}.csv\",\n",
    "                        sep=',', index=False)\n",
    "    \n",
    "    detection_rate_result.loc[len(detection_rate_result.index)] = [PATICIPANT_NUM, PATICIPANT_PART, CANNY, BLUR,  tolerated_detection_5pix, tolerated_detection_10pix, '480x480']\n",
    "    print(detection_rate_result)\n",
    "    print(\"\")\n"
   ]
  },
  {
   "cell_type": "code",
   "execution_count": 6,
   "metadata": {},
   "outputs": [
    {
     "data": {
      "text/html": [
       "<div>\n",
       "<style scoped>\n",
       "    .dataframe tbody tr th:only-of-type {\n",
       "        vertical-align: middle;\n",
       "    }\n",
       "\n",
       "    .dataframe tbody tr th {\n",
       "        vertical-align: top;\n",
       "    }\n",
       "\n",
       "    .dataframe thead th {\n",
       "        text-align: right;\n",
       "    }\n",
       "</style>\n",
       "<table border=\"1\" class=\"dataframe\">\n",
       "  <thead>\n",
       "    <tr style=\"text-align: right;\">\n",
       "      <th></th>\n",
       "      <th>PATICIPANT_NUM</th>\n",
       "      <th>PATICIPANT_PART</th>\n",
       "      <th>CANNY_VALUE</th>\n",
       "      <th>BLUR_VALUE</th>\n",
       "      <th>DETECTION_RATE_5PIX</th>\n",
       "      <th>DETECTION_RATE_10PIX</th>\n",
       "      <th>FRAME_SIZE</th>\n",
       "    </tr>\n",
       "  </thead>\n",
       "  <tbody>\n",
       "    <tr>\n",
       "      <th>0</th>\n",
       "      <td>8</td>\n",
       "      <td>2</td>\n",
       "      <td>25</td>\n",
       "      <td>9</td>\n",
       "      <td>73.75</td>\n",
       "      <td>80.45</td>\n",
       "      <td>480x480</td>\n",
       "    </tr>\n",
       "    <tr>\n",
       "      <th>1</th>\n",
       "      <td>8</td>\n",
       "      <td>2</td>\n",
       "      <td>18</td>\n",
       "      <td>21</td>\n",
       "      <td>88.65</td>\n",
       "      <td>93.35</td>\n",
       "      <td>480x480</td>\n",
       "    </tr>\n",
       "    <tr>\n",
       "      <th>2</th>\n",
       "      <td>8</td>\n",
       "      <td>2</td>\n",
       "      <td>21</td>\n",
       "      <td>13</td>\n",
       "      <td>85.25</td>\n",
       "      <td>90.70</td>\n",
       "      <td>480x480</td>\n",
       "    </tr>\n",
       "    <tr>\n",
       "      <th>3</th>\n",
       "      <td>8</td>\n",
       "      <td>7</td>\n",
       "      <td>25</td>\n",
       "      <td>9</td>\n",
       "      <td>81.55</td>\n",
       "      <td>84.60</td>\n",
       "      <td>480x480</td>\n",
       "    </tr>\n",
       "    <tr>\n",
       "      <th>4</th>\n",
       "      <td>8</td>\n",
       "      <td>7</td>\n",
       "      <td>18</td>\n",
       "      <td>21</td>\n",
       "      <td>88.15</td>\n",
       "      <td>91.10</td>\n",
       "      <td>480x480</td>\n",
       "    </tr>\n",
       "    <tr>\n",
       "      <th>5</th>\n",
       "      <td>8</td>\n",
       "      <td>7</td>\n",
       "      <td>21</td>\n",
       "      <td>13</td>\n",
       "      <td>87.50</td>\n",
       "      <td>90.15</td>\n",
       "      <td>480x480</td>\n",
       "    </tr>\n",
       "  </tbody>\n",
       "</table>\n",
       "</div>"
      ],
      "text/plain": [
       "   PATICIPANT_NUM  PATICIPANT_PART  CANNY_VALUE  BLUR_VALUE  \\\n",
       "0               8                2           25           9   \n",
       "1               8                2           18          21   \n",
       "2               8                2           21          13   \n",
       "3               8                7           25           9   \n",
       "4               8                7           18          21   \n",
       "5               8                7           21          13   \n",
       "\n",
       "   DETECTION_RATE_5PIX  DETECTION_RATE_10PIX FRAME_SIZE  \n",
       "0                73.75                 80.45    480x480  \n",
       "1                88.65                 93.35    480x480  \n",
       "2                85.25                 90.70    480x480  \n",
       "3                81.55                 84.60    480x480  \n",
       "4                88.15                 91.10    480x480  \n",
       "5                87.50                 90.15    480x480  "
      ]
     },
     "execution_count": 6,
     "metadata": {},
     "output_type": "execute_result"
    }
   ],
   "source": [
    "detection_rate_result"
   ]
  },
  {
   "cell_type": "code",
   "execution_count": 7,
   "metadata": {},
   "outputs": [],
   "source": [
    "detection_rate_result.to_csv(path + f\"/detect_participant{PATICIPANT_NUM}.csv\",\n",
    "                     sep=',', index=False)"
   ]
  },
  {
   "cell_type": "code",
   "execution_count": null,
   "metadata": {},
   "outputs": [],
   "source": []
  },
  {
   "cell_type": "code",
   "execution_count": null,
   "metadata": {},
   "outputs": [],
   "source": []
  },
  {
   "cell_type": "code",
   "execution_count": 8,
   "metadata": {},
   "outputs": [
    {
     "name": "stdout",
     "output_type": "stream",
     "text": [
      "mean - 1.3690242099700165, median - 0.5486037572801568, STD - 3.913098015610428\n"
     ]
    }
   ],
   "source": [
    "print(f\"mean - {np.mean(filter_evaluation)}, median - {np.median(filter_evaluation)}, STD - {np.std(filter_evaluation)}\")"
   ]
  },
  {
   "cell_type": "code",
   "execution_count": 9,
   "metadata": {},
   "outputs": [],
   "source": [
    "num_not_evaluated = len(evaluation) - len(filter_evaluation)\n",
    "#max(filter_evaluation)"
   ]
  },
  {
   "cell_type": "code",
   "execution_count": null,
   "metadata": {},
   "outputs": [],
   "source": [
    "\n"
   ]
  },
  {
   "cell_type": "code",
   "execution_count": null,
   "metadata": {},
   "outputs": [],
   "source": []
  }
 ],
 "metadata": {
  "kernelspec": {
   "display_name": "Python 3 (ipykernel)",
   "language": "python",
   "name": "python3"
  },
  "language_info": {
   "codemirror_mode": {
    "name": "ipython",
    "version": 3
   },
   "file_extension": ".py",
   "mimetype": "text/x-python",
   "name": "python",
   "nbconvert_exporter": "python",
   "pygments_lexer": "ipython3",
   "version": "3.9.2"
  }
 },
 "nbformat": 4,
 "nbformat_minor": 4
}
