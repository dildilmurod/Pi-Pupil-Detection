{
 "cells": [
  {
   "cell_type": "code",
   "execution_count": 1,
   "metadata": {},
   "outputs": [],
   "source": [
    "import numpy as np\n",
    "import pandas as pd\n",
    "import glob"
   ]
  },
  {
   "cell_type": "code",
   "execution_count": null,
   "metadata": {},
   "outputs": [],
   "source": []
  },
  {
   "cell_type": "code",
   "execution_count": 2,
   "metadata": {},
   "outputs": [
    {
     "name": "stdout",
     "output_type": "stream",
     "text": [
      "/home/demo/Desktop/Pi-Pupil-Detection/Pixel Error\n"
     ]
    }
   ],
   "source": [
    "import os\n",
    "print(os.getcwd())"
   ]
  },
  {
   "cell_type": "code",
   "execution_count": 3,
   "metadata": {},
   "outputs": [
    {
     "name": "stderr",
     "output_type": "stream",
     "text": [
      "/tmp/ipykernel_3461/1359622930.py:17: FutureWarning: The 'delim_whitespace' keyword in pd.read_csv is deprecated and will be removed in a future version. Use ``sep='\\s+'`` instead\n",
      "  detection_actual = pd.read_csv(path + rf'/{PATICIPANT_PART}.txt', delim_whitespace= True, header=None)\n"
     ]
    }
   ],
   "source": [
    "cols = ['x', 'y']\n",
    "# For one participant multiple data recording parts were used in LPW \n",
    "#1 - [1,4,9]   2 - [4,10,13]   3 - [16,19,21]\n",
    "PATICIPANT_PART = 21\n",
    "PATICIPANT_NUM = 3\n",
    "\n",
    "# CANNY = 25\n",
    "# BLUR = 9\n",
    "# CANNY = 18\n",
    "# BLUR = 21\n",
    "# CANNY = 21\n",
    "# BLUR = 13\n",
    "\n",
    "path = rf\"dataset/LPW_example/LPW_subject{PATICIPANT_NUM}\"\n",
    "detection_observed = pd.read_csv(path + rf'/Experiment_{PATICIPANT_PART}_canny_{CANNY}_blur_{BLUR}.csv', delimiter='\\t')\n",
    "\n",
    "detection_actual = pd.read_csv(path + rf'/{PATICIPANT_PART}.txt', delim_whitespace= True, header=None)\n",
    "detection_actual.columns = cols\n",
    "detection_actual[cols] = detection_actual[cols].astype('float')\n",
    "detection_observed[cols] = detection_observed[cols].astype('float')"
   ]
  },
  {
   "cell_type": "code",
   "execution_count": 4,
   "metadata": {},
   "outputs": [
    {
     "data": {
      "text/plain": [
       "[]"
      ]
     },
     "execution_count": 4,
     "metadata": {},
     "output_type": "execute_result"
    }
   ],
   "source": [
    "glob.glob(path+\"\\*avi\")\n",
    "#file_name = Path(path).stem"
   ]
  },
  {
   "cell_type": "code",
   "execution_count": 5,
   "metadata": {},
   "outputs": [
    {
     "data": {
      "text/html": [
       "<div>\n",
       "<style scoped>\n",
       "    .dataframe tbody tr th:only-of-type {\n",
       "        vertical-align: middle;\n",
       "    }\n",
       "\n",
       "    .dataframe tbody tr th {\n",
       "        vertical-align: top;\n",
       "    }\n",
       "\n",
       "    .dataframe thead th {\n",
       "        text-align: right;\n",
       "    }\n",
       "</style>\n",
       "<table border=\"1\" class=\"dataframe\">\n",
       "  <thead>\n",
       "    <tr style=\"text-align: right;\">\n",
       "      <th></th>\n",
       "      <th>x</th>\n",
       "      <th>y</th>\n",
       "    </tr>\n",
       "  </thead>\n",
       "  <tbody>\n",
       "    <tr>\n",
       "      <th>0</th>\n",
       "      <td>453.00</td>\n",
       "      <td>186.50</td>\n",
       "    </tr>\n",
       "    <tr>\n",
       "      <th>1</th>\n",
       "      <td>453.83</td>\n",
       "      <td>186.33</td>\n",
       "    </tr>\n",
       "    <tr>\n",
       "      <th>2</th>\n",
       "      <td>454.67</td>\n",
       "      <td>186.17</td>\n",
       "    </tr>\n",
       "    <tr>\n",
       "      <th>3</th>\n",
       "      <td>455.50</td>\n",
       "      <td>186.00</td>\n",
       "    </tr>\n",
       "    <tr>\n",
       "      <th>4</th>\n",
       "      <td>455.67</td>\n",
       "      <td>186.17</td>\n",
       "    </tr>\n",
       "    <tr>\n",
       "      <th>...</th>\n",
       "      <td>...</td>\n",
       "      <td>...</td>\n",
       "    </tr>\n",
       "    <tr>\n",
       "      <th>1995</th>\n",
       "      <td>364.00</td>\n",
       "      <td>155.50</td>\n",
       "    </tr>\n",
       "    <tr>\n",
       "      <th>1996</th>\n",
       "      <td>363.83</td>\n",
       "      <td>156.00</td>\n",
       "    </tr>\n",
       "    <tr>\n",
       "      <th>1997</th>\n",
       "      <td>363.67</td>\n",
       "      <td>156.50</td>\n",
       "    </tr>\n",
       "    <tr>\n",
       "      <th>1998</th>\n",
       "      <td>363.50</td>\n",
       "      <td>157.00</td>\n",
       "    </tr>\n",
       "    <tr>\n",
       "      <th>1999</th>\n",
       "      <td>363.00</td>\n",
       "      <td>157.00</td>\n",
       "    </tr>\n",
       "  </tbody>\n",
       "</table>\n",
       "<p>2000 rows × 2 columns</p>\n",
       "</div>"
      ],
      "text/plain": [
       "           x       y\n",
       "0     453.00  186.50\n",
       "1     453.83  186.33\n",
       "2     454.67  186.17\n",
       "3     455.50  186.00\n",
       "4     455.67  186.17\n",
       "...      ...     ...\n",
       "1995  364.00  155.50\n",
       "1996  363.83  156.00\n",
       "1997  363.67  156.50\n",
       "1998  363.50  157.00\n",
       "1999  363.00  157.00\n",
       "\n",
       "[2000 rows x 2 columns]"
      ]
     },
     "execution_count": 5,
     "metadata": {},
     "output_type": "execute_result"
    }
   ],
   "source": [
    "detection_actual"
   ]
  },
  {
   "cell_type": "code",
   "execution_count": null,
   "metadata": {},
   "outputs": [],
   "source": []
  },
  {
   "cell_type": "code",
   "execution_count": 6,
   "metadata": {},
   "outputs": [],
   "source": [
    "#detection_observed"
   ]
  },
  {
   "cell_type": "code",
   "execution_count": 7,
   "metadata": {},
   "outputs": [],
   "source": [
    "observed_num = len(detection_observed)"
   ]
  },
  {
   "cell_type": "code",
   "execution_count": 8,
   "metadata": {},
   "outputs": [
    {
     "data": {
      "text/plain": [
       "1298"
      ]
     },
     "execution_count": 8,
     "metadata": {},
     "output_type": "execute_result"
    }
   ],
   "source": [
    "misidentified = len(detection_observed[(detection_observed.extra != '[]') & (detection_observed.x != 0)])\n",
    "misidentified"
   ]
  },
  {
   "cell_type": "code",
   "execution_count": 9,
   "metadata": {},
   "outputs": [
    {
     "data": {
      "text/plain": [
       "23"
      ]
     },
     "execution_count": 9,
     "metadata": {},
     "output_type": "execute_result"
    }
   ],
   "source": [
    "notidentified = len(detection_observed[(detection_observed.x == 0)])\n",
    "notidentified"
   ]
  },
  {
   "cell_type": "code",
   "execution_count": 10,
   "metadata": {},
   "outputs": [
    {
     "data": {
      "text/plain": [
       "33.95"
      ]
     },
     "execution_count": 10,
     "metadata": {},
     "output_type": "execute_result"
    }
   ],
   "source": [
    "identified = ((observed_num - misidentified - notidentified) * 100) / observed_num\n",
    "identified"
   ]
  },
  {
   "cell_type": "code",
   "execution_count": null,
   "metadata": {},
   "outputs": [],
   "source": []
  },
  {
   "cell_type": "code",
   "execution_count": 11,
   "metadata": {},
   "outputs": [
    {
     "data": {
      "text/html": [
       "<div>\n",
       "<style scoped>\n",
       "    .dataframe tbody tr th:only-of-type {\n",
       "        vertical-align: middle;\n",
       "    }\n",
       "\n",
       "    .dataframe tbody tr th {\n",
       "        vertical-align: top;\n",
       "    }\n",
       "\n",
       "    .dataframe thead th {\n",
       "        text-align: right;\n",
       "    }\n",
       "</style>\n",
       "<table border=\"1\" class=\"dataframe\">\n",
       "  <thead>\n",
       "    <tr style=\"text-align: right;\">\n",
       "      <th></th>\n",
       "      <th>x</th>\n",
       "      <th>y</th>\n",
       "    </tr>\n",
       "  </thead>\n",
       "  <tbody>\n",
       "    <tr>\n",
       "      <th>0</th>\n",
       "      <td>-36.078407</td>\n",
       "      <td>263.174342</td>\n",
       "    </tr>\n",
       "    <tr>\n",
       "      <th>1</th>\n",
       "      <td>-37.227859</td>\n",
       "      <td>263.355512</td>\n",
       "    </tr>\n",
       "    <tr>\n",
       "      <th>2</th>\n",
       "      <td>-37.661409</td>\n",
       "      <td>263.525720</td>\n",
       "    </tr>\n",
       "    <tr>\n",
       "      <th>3</th>\n",
       "      <td>-38.696200</td>\n",
       "      <td>263.917411</td>\n",
       "    </tr>\n",
       "    <tr>\n",
       "      <th>4</th>\n",
       "      <td>-38.498916</td>\n",
       "      <td>263.457714</td>\n",
       "    </tr>\n",
       "    <tr>\n",
       "      <th>...</th>\n",
       "      <td>...</td>\n",
       "      <td>...</td>\n",
       "    </tr>\n",
       "    <tr>\n",
       "      <th>1995</th>\n",
       "      <td>51.575464</td>\n",
       "      <td>293.176972</td>\n",
       "    </tr>\n",
       "    <tr>\n",
       "      <th>1996</th>\n",
       "      <td>52.107062</td>\n",
       "      <td>292.777565</td>\n",
       "    </tr>\n",
       "    <tr>\n",
       "      <th>1997</th>\n",
       "      <td>51.860982</td>\n",
       "      <td>292.451592</td>\n",
       "    </tr>\n",
       "    <tr>\n",
       "      <th>1998</th>\n",
       "      <td>52.176537</td>\n",
       "      <td>291.770940</td>\n",
       "    </tr>\n",
       "    <tr>\n",
       "      <th>1999</th>\n",
       "      <td>52.741651</td>\n",
       "      <td>291.643036</td>\n",
       "    </tr>\n",
       "  </tbody>\n",
       "</table>\n",
       "<p>2000 rows × 2 columns</p>\n",
       "</div>"
      ],
      "text/plain": [
       "              x           y\n",
       "0    -36.078407  263.174342\n",
       "1    -37.227859  263.355512\n",
       "2    -37.661409  263.525720\n",
       "3    -38.696200  263.917411\n",
       "4    -38.498916  263.457714\n",
       "...         ...         ...\n",
       "1995  51.575464  293.176972\n",
       "1996  52.107062  292.777565\n",
       "1997  51.860982  292.451592\n",
       "1998  52.176537  291.770940\n",
       "1999  52.741651  291.643036\n",
       "\n",
       "[2000 rows x 2 columns]"
      ]
     },
     "execution_count": 11,
     "metadata": {},
     "output_type": "execute_result"
    }
   ],
   "source": [
    "detection_observed[cols] - detection_actual[cols] "
   ]
  },
  {
   "cell_type": "code",
   "execution_count": 12,
   "metadata": {},
   "outputs": [],
   "source": [
    "# Error calculation (MSE)\n",
    "\n",
    "evaluation = []\n",
    "\n",
    "for data_o, data_a in zip(detection_observed.values, detection_actual.values):\n",
    "    #print(np.linalg.norm([data_o[0] , data_a[0]], 1))\n",
    "    ecu_dist = np.sqrt(np.square(data_o[0] - data_a[0]) + np.square(data_o[1] - data_a[1]))\n",
    "    evaluation.append(ecu_dist)\n",
    "    #np.linalg.norm([data_o[0], data_o[1]], [data_a[0], data_a[1]], axis=1)\n"
   ]
  },
  {
   "cell_type": "code",
   "execution_count": 13,
   "metadata": {},
   "outputs": [],
   "source": [
    "filter_evaluation =  list(filter(lambda value: value < 100, evaluation))"
   ]
  },
  {
   "cell_type": "code",
   "execution_count": 14,
   "metadata": {},
   "outputs": [],
   "source": [
    "#max(filter_evaluation)"
   ]
  },
  {
   "cell_type": "code",
   "execution_count": 15,
   "metadata": {},
   "outputs": [
    {
     "data": {
      "text/plain": [
       "13"
      ]
     },
     "execution_count": 15,
     "metadata": {},
     "output_type": "execute_result"
    }
   ],
   "source": [
    "error_evaluation_5pix =  list(filter(lambda value: value < 5, evaluation))\n",
    "len(error_evaluation_5pix)"
   ]
  },
  {
   "cell_type": "code",
   "execution_count": 16,
   "metadata": {},
   "outputs": [
    {
     "data": {
      "text/plain": [
       "0.65"
      ]
     },
     "execution_count": 16,
     "metadata": {},
     "output_type": "execute_result"
    }
   ],
   "source": [
    "tolerated_detection_5pix = (len(error_evaluation_5pix) * 100) / observed_num\n",
    "tolerated_detection_5pix"
   ]
  },
  {
   "cell_type": "code",
   "execution_count": 17,
   "metadata": {},
   "outputs": [
    {
     "data": {
      "text/plain": [
       "16"
      ]
     },
     "execution_count": 17,
     "metadata": {},
     "output_type": "execute_result"
    }
   ],
   "source": [
    "error_evaluation_10pix =  list(filter(lambda value: value < 10, evaluation))\n",
    "len(error_evaluation_10pix)"
   ]
  },
  {
   "cell_type": "code",
   "execution_count": 18,
   "metadata": {},
   "outputs": [
    {
     "data": {
      "text/plain": [
       "0.8"
      ]
     },
     "execution_count": 18,
     "metadata": {},
     "output_type": "execute_result"
    }
   ],
   "source": [
    "tolerated_detection_10pix = (len(error_evaluation_10pix) * 100) / observed_num\n",
    "tolerated_detection_10pix"
   ]
  },
  {
   "cell_type": "code",
   "execution_count": 19,
   "metadata": {},
   "outputs": [
    {
     "data": {
      "text/html": [
       "<div>\n",
       "<style scoped>\n",
       "    .dataframe tbody tr th:only-of-type {\n",
       "        vertical-align: middle;\n",
       "    }\n",
       "\n",
       "    .dataframe tbody tr th {\n",
       "        vertical-align: top;\n",
       "    }\n",
       "\n",
       "    .dataframe thead th {\n",
       "        text-align: right;\n",
       "    }\n",
       "</style>\n",
       "<table border=\"1\" class=\"dataframe\">\n",
       "  <thead>\n",
       "    <tr style=\"text-align: right;\">\n",
       "      <th></th>\n",
       "      <th>PATICIPANT_NUM</th>\n",
       "      <th>PATICIPANT_PART</th>\n",
       "      <th>CANNY_VALUE</th>\n",
       "      <th>BLUR_VALUE</th>\n",
       "      <th>DETECTION_RATE_5PIX</th>\n",
       "      <th>DETECTION_RATE_10PIX</th>\n",
       "      <th>FRAME_SIZE</th>\n",
       "    </tr>\n",
       "  </thead>\n",
       "  <tbody>\n",
       "    <tr>\n",
       "      <th>0</th>\n",
       "      <td>3</td>\n",
       "      <td>16</td>\n",
       "      <td>25</td>\n",
       "      <td>9</td>\n",
       "      <td>0.00</td>\n",
       "      <td>0.00</td>\n",
       "      <td>480x480</td>\n",
       "    </tr>\n",
       "    <tr>\n",
       "      <th>1</th>\n",
       "      <td>3</td>\n",
       "      <td>16</td>\n",
       "      <td>18</td>\n",
       "      <td>21</td>\n",
       "      <td>0.00</td>\n",
       "      <td>0.00</td>\n",
       "      <td>480x480</td>\n",
       "    </tr>\n",
       "    <tr>\n",
       "      <th>2</th>\n",
       "      <td>3</td>\n",
       "      <td>16</td>\n",
       "      <td>21</td>\n",
       "      <td>13</td>\n",
       "      <td>0.00</td>\n",
       "      <td>0.05</td>\n",
       "      <td>480x480</td>\n",
       "    </tr>\n",
       "    <tr>\n",
       "      <th>3</th>\n",
       "      <td>3</td>\n",
       "      <td>19</td>\n",
       "      <td>25</td>\n",
       "      <td>9</td>\n",
       "      <td>0.00</td>\n",
       "      <td>0.00</td>\n",
       "      <td>480x480</td>\n",
       "    </tr>\n",
       "    <tr>\n",
       "      <th>4</th>\n",
       "      <td>3</td>\n",
       "      <td>19</td>\n",
       "      <td>18</td>\n",
       "      <td>21</td>\n",
       "      <td>0.00</td>\n",
       "      <td>0.00</td>\n",
       "      <td>480x480</td>\n",
       "    </tr>\n",
       "    <tr>\n",
       "      <th>5</th>\n",
       "      <td>3</td>\n",
       "      <td>19</td>\n",
       "      <td>21</td>\n",
       "      <td>13</td>\n",
       "      <td>0.00</td>\n",
       "      <td>0.00</td>\n",
       "      <td>480x480</td>\n",
       "    </tr>\n",
       "    <tr>\n",
       "      <th>6</th>\n",
       "      <td>3</td>\n",
       "      <td>21</td>\n",
       "      <td>25</td>\n",
       "      <td>9</td>\n",
       "      <td>1.50</td>\n",
       "      <td>1.95</td>\n",
       "      <td>480x480</td>\n",
       "    </tr>\n",
       "    <tr>\n",
       "      <th>7</th>\n",
       "      <td>3</td>\n",
       "      <td>21</td>\n",
       "      <td>18</td>\n",
       "      <td>21</td>\n",
       "      <td>0.10</td>\n",
       "      <td>0.15</td>\n",
       "      <td>480x480</td>\n",
       "    </tr>\n",
       "    <tr>\n",
       "      <th>8</th>\n",
       "      <td>3</td>\n",
       "      <td>21</td>\n",
       "      <td>21</td>\n",
       "      <td>13</td>\n",
       "      <td>0.65</td>\n",
       "      <td>0.80</td>\n",
       "      <td>480x480</td>\n",
       "    </tr>\n",
       "  </tbody>\n",
       "</table>\n",
       "</div>"
      ],
      "text/plain": [
       "   PATICIPANT_NUM  PATICIPANT_PART  CANNY_VALUE  BLUR_VALUE  \\\n",
       "0               3               16           25           9   \n",
       "1               3               16           18          21   \n",
       "2               3               16           21          13   \n",
       "3               3               19           25           9   \n",
       "4               3               19           18          21   \n",
       "5               3               19           21          13   \n",
       "6               3               21           25           9   \n",
       "7               3               21           18          21   \n",
       "8               3               21           21          13   \n",
       "\n",
       "   DETECTION_RATE_5PIX  DETECTION_RATE_10PIX FRAME_SIZE  \n",
       "0                 0.00                  0.00    480x480  \n",
       "1                 0.00                  0.00    480x480  \n",
       "2                 0.00                  0.05    480x480  \n",
       "3                 0.00                  0.00    480x480  \n",
       "4                 0.00                  0.00    480x480  \n",
       "5                 0.00                  0.00    480x480  \n",
       "6                 1.50                  1.95    480x480  \n",
       "7                 0.10                  0.15    480x480  \n",
       "8                 0.65                  0.80    480x480  "
      ]
     },
     "execution_count": 19,
     "metadata": {},
     "output_type": "execute_result"
    }
   ],
   "source": [
    "# detection_rate_result = pd.DataFrame(columns = ['PATICIPANT_NUM', 'PATICIPANT_PART', 'CANNY_VALUE', 'BLUR_VALUE', 'DETECTION_RATE_5PIX', 'DETECTION_RATE_10PIX', 'FRAME_SIZE'])\n",
    "detection_rate_result = pd.read_csv(path + rf'/detect_participant{PATICIPANT_NUM}.csv', delimiter=',')\n",
    "detection_rate_result.loc[len(detection_rate_result.index)] = [PATICIPANT_NUM, PATICIPANT_PART, CANNY, BLUR,  tolerated_detection_5pix, tolerated_detection_10pix, '480x480']\n",
    "detection_rate_result\n"
   ]
  },
  {
   "cell_type": "code",
   "execution_count": 20,
   "metadata": {},
   "outputs": [],
   "source": [
    "detection_rate_result.to_csv(path + f\"/detect_participant{PATICIPANT_NUM}.csv\",\n",
    "                     sep=',', index=False)"
   ]
  },
  {
   "cell_type": "code",
   "execution_count": null,
   "metadata": {},
   "outputs": [],
   "source": []
  },
  {
   "cell_type": "code",
   "execution_count": 21,
   "metadata": {},
   "outputs": [
    {
     "name": "stdout",
     "output_type": "stream",
     "text": [
      "mean - 7.491451113111733, median - 2.064580879970084, STD - 18.46802952719198\n"
     ]
    }
   ],
   "source": [
    "print(f\"mean - {np.mean(filter_evaluation)}, median - {np.median(filter_evaluation)}, STD - {np.std(filter_evaluation)}\")"
   ]
  },
  {
   "cell_type": "code",
   "execution_count": 22,
   "metadata": {},
   "outputs": [],
   "source": [
    "num_not_evaluated = len(evaluation) - len(filter_evaluation)\n",
    "#max(filter_evaluation)"
   ]
  },
  {
   "cell_type": "code",
   "execution_count": 23,
   "metadata": {},
   "outputs": [],
   "source": [
    "#for data in filter_evaluation:\n",
    "#    print(data)\n",
    "df_experiment = pd.DataFrame(filter_evaluation, columns=[\"Error_Euclidean\"])\n",
    "\n",
    "df_experiment.to_csv(path + f\"/participant{PATICIPANT_NUM}_part_{PATICIPANT_PART}_error__canny_{CANNY}_blur_{BLUR}.csv\",\n",
    "                     sep=',', index=False)"
   ]
  },
  {
   "cell_type": "code",
   "execution_count": null,
   "metadata": {},
   "outputs": [],
   "source": []
  }
 ],
 "metadata": {
  "kernelspec": {
   "display_name": "Python 3 (ipykernel)",
   "language": "python",
   "name": "python3"
  },
  "language_info": {
   "codemirror_mode": {
    "name": "ipython",
    "version": 3
   },
   "file_extension": ".py",
   "mimetype": "text/x-python",
   "name": "python",
   "nbconvert_exporter": "python",
   "pygments_lexer": "ipython3",
   "version": "3.9.2"
  }
 },
 "nbformat": 4,
 "nbformat_minor": 4
}
