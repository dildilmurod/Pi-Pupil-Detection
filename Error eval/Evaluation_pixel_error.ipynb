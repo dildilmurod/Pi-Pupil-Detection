{
 "cells": [
  {
   "cell_type": "code",
   "execution_count": null,
   "metadata": {},
   "outputs": [],
   "source": [
    "import numpy as np\n",
    "import pandas as pd\n",
    "import glob"
   ]
  },
  {
   "cell_type": "code",
   "execution_count": null,
   "metadata": {},
   "outputs": [],
   "source": [
    "import os\n",
    "print(os.getcwd())"
   ]
  },
  {
   "cell_type": "code",
   "execution_count": null,
   "metadata": {},
   "outputs": [],
   "source": [
    "cols = ['x', 'y']\n",
    "# For one participant multiple data recording parts were used in LPW \n",
    "PATICIPANT_PART = 1\n",
    "PATICIPANT_NUM = 1\n",
    "\n",
    "CANNY = 18\n",
    "BLUR = 21\n",
    "\n",
    "path = rf\"dataset/LPW_example/LPW_subject{PATICIPANT_NUM}\"\n",
    "detection_observed = pd.read_csv(path + rf'\\Experiment_{PATICIPANT_PART}_canny_{CANNY}_blur_{BLUR}.csv', delimiter='\\t')\n",
    "detection_actual = pd.read_csv(path + rf'/{PATICIPANT_PART}.txt', delim_whitespace= True, header=None)\n",
    "detection_actual.columns = cols\n",
    "detection_actual[cols] = detection_actual[cols].astype('float')\n",
    "detection_observed[cols] = detection_observed[cols].astype('float')"
   ]
  },
  {
   "cell_type": "code",
   "execution_count": null,
   "metadata": {},
   "outputs": [],
   "source": [
    "glob.glob(path+\"\\*avi\")\n",
    "#file_name = Path(path).stem"
   ]
  },
  {
   "cell_type": "code",
   "execution_count": null,
   "metadata": {},
   "outputs": [],
   "source": [
    "detection_observed[cols] - detection_actual[cols] "
   ]
  },
  {
   "cell_type": "code",
   "execution_count": null,
   "metadata": {
    "scrolled": false
   },
   "outputs": [],
   "source": [
    "# Error calculation (MSE)\n",
    "\n",
    "evaluation = []\n",
    "\n",
    "for data_o, data_a in zip(detection_observed.values, detection_actual.values):\n",
    "    #print(np.linalg.norm([data_o[0] , data_a[0]], 1))\n",
    "    ecu_dist = np.sqrt(np.square(data_o[0] - data_a[0]) + np.square(data_o[1] - data_a[1]))\n",
    "    evaluation.append(ecu_dist)\n",
    "    #np.linalg.norm([data_o[0], data_o[1]], [data_a[0], data_a[1]], axis=1)"
   ]
  },
  {
   "cell_type": "code",
   "execution_count": null,
   "metadata": {},
   "outputs": [],
   "source": [
    "filter_evaluation =  list(filter(lambda value: value < 100, evaluation))\n",
    "print(f\"mean - {np.mean(filter_evaluation)}, median - {np.median(filter_evaluation)}, STD - {np.std(filter_evaluation)}\")"
   ]
  },
  {
   "cell_type": "code",
   "execution_count": null,
   "metadata": {},
   "outputs": [],
   "source": [
    "num_not_evaluated = len(evaluation) - len(filter_evaluation)\n",
    "\n",
    "max(filter_evaluation)"
   ]
  },
  {
   "cell_type": "code",
   "execution_count": null,
   "metadata": {},
   "outputs": [],
   "source": [
    "#for data in filter_evaluation:\n",
    "#    print(data)\n",
    "df_experiment = pd.DataFrame(filter_evaluation, columns=[\"Error_Euclidean\"])\n",
    "\n",
    "df_experiment.to_csv(path + f\"\\participant{PATICIPANT_NUM}_part_{PATICIPANT_PART}_error__canny_{CANNY}_blur_{BLUR}.csv\",\n",
    "                     sep=',', index=False)"
   ]
  },
  {
   "cell_type": "code",
   "execution_count": null,
   "metadata": {},
   "outputs": [],
   "source": []
  }
 ],
 "metadata": {
  "kernelspec": {
   "display_name": "Python 3",
   "language": "python",
   "name": "python3"
  },
  "language_info": {
   "codemirror_mode": {
    "name": "ipython",
    "version": 3
   },
   "file_extension": ".py",
   "mimetype": "text/x-python",
   "name": "python",
   "nbconvert_exporter": "python",
   "pygments_lexer": "ipython3",
   "version": "3.8.3"
  }
 },
 "nbformat": 4,
 "nbformat_minor": 4
}
